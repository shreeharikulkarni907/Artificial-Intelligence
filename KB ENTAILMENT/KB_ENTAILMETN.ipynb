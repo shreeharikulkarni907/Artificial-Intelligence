{
 "cells": [
  {
   "cell_type": "code",
   "execution_count": 43,
   "id": "86613497",
   "metadata": {},
   "outputs": [],
   "source": [
    "combination=[(True,True,True),(True,True,False),(True,False,True),(True,False,False),(False,True,True),(False,True,False),(False,False,True),(False,False,False)]"
   ]
  },
  {
   "cell_type": "code",
   "execution_count": 44,
   "id": "1f073ee5",
   "metadata": {},
   "outputs": [],
   "source": [
    "variable={'p':0,'q':1,'r':2}"
   ]
  },
  {
   "cell_type": "code",
   "execution_count": 45,
   "id": "52da4329",
   "metadata": {},
   "outputs": [],
   "source": [
    "kb=''"
   ]
  },
  {
   "cell_type": "code",
   "execution_count": 46,
   "id": "534e9462",
   "metadata": {},
   "outputs": [],
   "source": [
    "q=''"
   ]
  },
  {
   "cell_type": "code",
   "execution_count": 47,
   "id": "f496df49",
   "metadata": {},
   "outputs": [],
   "source": [
    "priority={'~':3,'v':1,'^':2}"
   ]
  },
  {
   "cell_type": "code",
   "execution_count": 48,
   "id": "347b25c6",
   "metadata": {},
   "outputs": [],
   "source": [
    "def input_rules():\n",
    "    global kb,q\n",
    "    kb=input('Enter the rule: ')\n",
    "    q=input('Enter the query: ')\n",
    "    \n",
    "    "
   ]
  },
  {
   "cell_type": "code",
   "execution_count": 49,
   "id": "4ca4c56c",
   "metadata": {},
   "outputs": [],
   "source": [
    "def entailment():\n",
    "    global kb,q\n",
    "    print(\"kb\",\"alpha\")\n",
    "    print('*' * 10)\n",
    "    for comb in combination:\n",
    "        \n",
    "        print('POSTFIX OF KB IS ' + str(topostfix(kb)))\n",
    "        print('POSTFIX OF THE QUERY IS ' + str(topostfix(q)))\n",
    "        \n",
    "        s=evaluate_postfix(topostfix(kb),comb)\n",
    "        print(s)\n",
    "        f=evaluate_postfix(topostfix(q),comb)\n",
    "        print(f)\n",
    "        \n",
    "   \n",
    "        \n",
    "        if s and not f:\n",
    "            return False\n",
    "    return True\n",
    "        \n",
    "        \n",
    "        "
   ]
  },
  {
   "cell_type": "code",
   "execution_count": 50,
   "id": "885fc95c",
   "metadata": {},
   "outputs": [],
   "source": [
    "def isoperand(c):\n",
    "    return c.isalpha() and c!='v'"
   ]
  },
  {
   "cell_type": "code",
   "execution_count": 51,
   "id": "9d17aa45",
   "metadata": {},
   "outputs": [],
   "source": [
    "def isleftparenthesis(c):\n",
    "    return c=='('"
   ]
  },
  {
   "cell_type": "code",
   "execution_count": 52,
   "id": "81e4aa90",
   "metadata": {},
   "outputs": [],
   "source": [
    "def isrightparenthesis(c):\n",
    "    return c==')'"
   ]
  },
  {
   "cell_type": "code",
   "execution_count": 53,
   "id": "33faa5be",
   "metadata": {},
   "outputs": [],
   "source": [
    "def isEmpty(stack):\n",
    "    return len(stack)==0"
   ]
  },
  {
   "cell_type": "code",
   "execution_count": 54,
   "id": "b911ac56",
   "metadata": {},
   "outputs": [],
   "source": [
    "def peek(stack):\n",
    "    return stack[-1]"
   ]
  },
  {
   "cell_type": "code",
   "execution_count": 55,
   "id": "a72ba589",
   "metadata": {},
   "outputs": [],
   "source": [
    "def has_less_or_equal_priority(c1,c2):\n",
    "    try:\n",
    "        return priority[c1]<=priority[c2]\n",
    "    except KeyError: return False"
   ]
  },
  {
   "cell_type": "code",
   "execution_count": 56,
   "id": "1d0b07ad",
   "metadata": {},
   "outputs": [],
   "source": [
    "def topostfix(infix):\n",
    "    stack=[]\n",
    "    postfix=''\n",
    "    for c in infix:\n",
    "        if isoperand(c):\n",
    "            postfix+=c\n",
    "        else:\n",
    "            if isleftparenthesis(c):\n",
    "                stack.append(c)\n",
    "            elif isrightparenthesis(c):\n",
    "                operator=stack.pop()\n",
    "                while not isleftparenthesis(operator):\n",
    "                    postfix+=operator\n",
    "                    operator=stack.pop()\n",
    "            else:\n",
    "                while (not isEmpty(stack) and has_less_or_equal_priority(c,peek(stack))):\n",
    "                    postfix+=stack.pop()\n",
    "                stack.append(c)\n",
    "    while(not isEmpty(stack)):\n",
    "        postfix+=stack.pop();\n",
    "    return postfix\n",
    "            \n",
    "            \n",
    "                \n",
    "        "
   ]
  },
  {
   "cell_type": "code",
   "execution_count": 57,
   "id": "b71c139d",
   "metadata": {},
   "outputs": [],
   "source": [
    "def _eval(i,val1,val2):\n",
    "    if i=='^':\n",
    "        return val1 and val2\n",
    "    return val1 or val2(~qv~pvr)^(~q^p)^q"
   ]
  },
  {
   "cell_type": "code",
   "execution_count": 58,
   "id": "aa201f13",
   "metadata": {},
   "outputs": [],
   "source": [
    "def evaluate_postfix(exp,comb):\n",
    "    stack=[]\n",
    "    for i in exp:\n",
    "        if isoperand(i):\n",
    "            stack.append(comb[variable[i]])\n",
    "        elif i=='~':\n",
    "            val1=stack.pop();\n",
    "            stack.append(not val1)\n",
    "        else:\n",
    "            val1=stack.pop()\n",
    "            val2=stack.pop()\n",
    "            stack.append(_eval(i,val1,val2))\n",
    "    return stack.pop();"
   ]
  },
  {
   "cell_type": "code",
   "execution_count": null,
   "id": "b32b1e63",
   "metadata": {},
   "outputs": [],
   "source": [
    "input_rules()\n",
    "ans = entailment()\n",
    "if ans: print(\"The Knowledge Base Entails Query\")\n",
    "else: print(\"The Knowledge Base Doesn't Entail Query\")"
   ]
  },
  {
   "cell_type": "code",
   "execution_count": null,
   "id": "f875d67e",
   "metadata": {},
   "outputs": [],
   "source": []
  }
 ],
 "metadata": {
  "kernelspec": {
   "display_name": "Python 3",
   "language": "python",
   "name": "python3"
  },
  "language_info": {
   "codemirror_mode": {
    "name": "ipython",
    "version": 3
   },
   "file_extension": ".py",
   "mimetype": "text/x-python",
   "name": "python",
   "nbconvert_exporter": "python",
   "pygments_lexer": "ipython3",
   "version": "3.8.8"
  }
 },
 "nbformat": 4,
 "nbformat_minor": 5
}
