{
 "cells": [
  {
   "cell_type": "code",
   "execution_count": 495,
   "id": "523bf19c",
   "metadata": {},
   "outputs": [],
   "source": [
    "predicate=[]"
   ]
  },
  {
   "cell_type": "code",
   "execution_count": 496,
   "id": "7b8f9579",
   "metadata": {},
   "outputs": [],
   "source": [
    "no_of_arg=[]"
   ]
  },
  {
   "cell_type": "code",
   "execution_count": 497,
   "id": "c21099a9",
   "metadata": {},
   "outputs": [],
   "source": [
    "arguement=[]"
   ]
  },
  {
   "cell_type": "code",
   "execution_count": 498,
   "id": "f5e5501d",
   "metadata": {},
   "outputs": [],
   "source": [
    "no_of_predicat=0"
   ]
  },
  {
   "cell_type": "code",
   "execution_count": 499,
   "id": "1b29bd5e",
   "metadata": {},
   "outputs": [],
   "source": [
    "expressions=[]"
   ]
  },
  {
   "cell_type": "code",
   "execution_count": 500,
   "id": "bb152812",
   "metadata": {},
   "outputs": [],
   "source": [
    "fu=[]"
   ]
  },
  {
   "cell_type": "code",
   "execution_count": 501,
   "id": "70a96092",
   "metadata": {},
   "outputs": [],
   "source": [
    "lst=[]"
   ]
  },
  {
   "cell_type": "code",
   "execution_count": 502,
   "id": "8b70d792",
   "metadata": {},
   "outputs": [],
   "source": [
    "def function1():\n",
    "    print('------PROGRAM FOR UNIFICATION---------')\n",
    "    no_of_predicat=int(input('Enter the number of predicate '))\n",
    "    for i in range(no_of_predicat):\n",
    "        expr=input('Enter the expression ' + str(i) + \" \")\n",
    "        expressions.append(expr)\n",
    "    for exp in expressions:\n",
    "        fu=exp.split('(')\n",
    "        one=fu[0]\n",
    "        predicate.append(one)\n",
    "        lst=fu[1]\n",
    "        lst=lst[:-1]\n",
    "        lst=lst.split(',')\n",
    "\n",
    "        if lst:\n",
    "            arguement.append(lst)  \n",
    "    check_arg(no_of_predicat)\n",
    "        \n",
    "        \n",
    "\n"
   ]
  },
  {
   "cell_type": "code",
   "execution_count": 503,
   "id": "b3c42b71",
   "metadata": {},
   "outputs": [],
   "source": [
    "def check_arg(no_of_predicat):\n",
    "#     print(\"PREDICAT \" + str(predicate))\n",
    "    pred_flag=0\n",
    "    arg_flag=0\n",
    "    print('---------CHCEKING PREDICATES-----------')\n",
    "#     print(str(no_of_predicat) + 'INSIDE CHECK ARG')\n",
    "    for i in range(no_of_predicat-1):\n",
    "#         print(predicate[i])\n",
    "#         print(predicate[i+1])\n",
    "        if predicate[i]!=predicate[i+1]:\n",
    "            print('PREDICAT NOT SAME')\n",
    "            print('CANNOT BE UNIFIED')\n",
    "            pred_flag=1\n",
    "            break\n",
    "            \n",
    "    if pred_flag!=1:\n",
    "        for i in range(no_of_predicat-1):\n",
    "            len1=len(arguement[i])\n",
    "            len2=len(arguement[i+1])\n",
    "            if len1!=len2:\n",
    "                print('Arguement are not same cannot be unified')\n",
    "                arg_flag=1\n",
    "                break\n",
    "        \n",
    "    if(arg_flag==0 and pred_flag==0):\n",
    "        unify(no_of_predicat)\n",
    "            \n",
    "    "
   ]
  },
  {
   "cell_type": "code",
   "execution_count": 504,
   "id": "d63a31fc",
   "metadata": {},
   "outputs": [],
   "source": [
    "def unify(no_of_predicat):\n",
    "#     print(no_of_predicat)\n",
    "#     print(range(no_of_predicat-1))\n",
    "    flag=0\n",
    "    for i in range(no_of_predicat-1):\n",
    "#         print('HIO')\n",
    "        for j in range(len(arguement[i])):\n",
    "#             print('lit')\n",
    "            if arguement[i][j]!=arguement[i+1][j]:\n",
    "#                 print('HELLO')\n",
    "                print(' SUBSTITUTE ' + str(arguement[i][j]) + '/' + str(arguement[i+1][j]))\n",
    "                arguement[i][j]=arguement[i+1][j]\n",
    "                flag+=1\n",
    "    if flag==0:\n",
    "        print(' AREGUEMENT ARE IDENTICAL NO SUBSTITUTION REQUIRED ')\n",
    "        print(' NO NEED OF SUBSTITUTION ')\n",
    "                    "
   ]
  },
  {
   "cell_type": "code",
   "execution_count": 493,
   "id": "67535e44",
   "metadata": {},
   "outputs": [
    {
     "name": "stdout",
     "output_type": "stream",
     "text": [
      "------PROGRAM FOR UNIFICATION---------\n",
      "Enter the number of predicate 2\n",
      "Enter the expression 0 king(x,john)\n",
      "Enter the expression 1 queen(y,jane)\n",
      "---------CHCEKING PREDICATES-----------\n",
      "PREDICAT NOT SAME\n",
      "CANNOT BE UNIFIED\n"
     ]
    }
   ],
   "source": [
    "function1()"
   ]
  },
  {
   "cell_type": "code",
   "execution_count": 505,
   "id": "1876cdca",
   "metadata": {},
   "outputs": [
    {
     "name": "stdout",
     "output_type": "stream",
     "text": [
      "------PROGRAM FOR UNIFICATION---------\n",
      "Enter the number of predicate 2\n",
      "Enter the expression 0 knows(john,x)\n",
      "Enter the expression 1 knows(y,bill)\n",
      "---------CHCEKING PREDICATES-----------\n",
      " SUBSTITUTE john/y\n",
      " SUBSTITUTE x/bill\n"
     ]
    }
   ],
   "source": [
    "function1()"
   ]
  },
  {
   "cell_type": "code",
   "execution_count": 482,
   "id": "424d0bbe",
   "metadata": {},
   "outputs": [
    {
     "name": "stdout",
     "output_type": "stream",
     "text": [
      "------PROGRAM FOR UNIFICATION---------\n",
      "Enter the number of predicate 2\n",
      "Enter the expression 0 studies(x,g(x))\n",
      "Enter the expression 1 studies(z,g(z))\n",
      "---------CHCEKING PREDICATES-----------\n",
      "2\n",
      "range(0, 1)\n",
      " SUBSTITUTE x/z\n"
     ]
    }
   ],
   "source": [
    "function1()"
   ]
  },
  {
   "cell_type": "code",
   "execution_count": null,
   "id": "3a95b9b0",
   "metadata": {},
   "outputs": [],
   "source": []
  }
 ],
 "metadata": {
  "kernelspec": {
   "display_name": "Python 3",
   "language": "python",
   "name": "python3"
  },
  "language_info": {
   "codemirror_mode": {
    "name": "ipython",
    "version": 3
   },
   "file_extension": ".py",
   "mimetype": "text/x-python",
   "name": "python",
   "nbconvert_exporter": "python",
   "pygments_lexer": "ipython3",
   "version": "3.8.8"
  }
 },
 "nbformat": 4,
 "nbformat_minor": 5
}
