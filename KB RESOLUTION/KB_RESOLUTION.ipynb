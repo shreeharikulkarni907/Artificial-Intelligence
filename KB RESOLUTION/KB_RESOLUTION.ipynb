{
 "cells": [
  {
   "cell_type": "code",
   "execution_count": 31,
   "id": "95a366f8",
   "metadata": {},
   "outputs": [],
   "source": [
    "def disjunctify(clauses):\n",
    "    disjuncts=[]\n",
    "    for clause in clauses:\n",
    "        disjuncts.append(tuple(clause.split('v')))\n",
    "    return disjuncts"
   ]
  },
  {
   "cell_type": "code",
   "execution_count": 32,
   "id": "82e3f834",
   "metadata": {},
   "outputs": [],
   "source": [
    "def getresolvant(ci,cj,di,dj):\n",
    "    resolvant=list(ci) + list(cj)\n",
    "    resolvant.remove(di)\n",
    "    resolvant.remove(dj)\n",
    "    return tuple(resolvant)"
   ]
  },
  {
   "cell_type": "code",
   "execution_count": 33,
   "id": "8221b402",
   "metadata": {},
   "outputs": [],
   "source": [
    "def resolve(ci,cj):\n",
    "    for di in ci:\n",
    "        for dj in cj:\n",
    "            if di == '~' + dj or dj == '~' + di:\n",
    "                return getresolvant(ci,cj,di,dj)\n",
    "    "
   ]
  },
  {
   "cell_type": "code",
   "execution_count": 38,
   "id": "9430444e",
   "metadata": {},
   "outputs": [],
   "source": [
    "def check_resolution(clauses,query):\n",
    "    clauses+=[query if query.startswith('~') else '~' + query]\n",
    "    proposition='^'.join(['(' + clause + ')' for clause in clauses])\n",
    "    print(f'Trying to prove {proposition} by contradiction...')\n",
    "    clauses=disjunctify(clauses)\n",
    "    resolved=False\n",
    "    new=set()\n",
    "\n",
    "    \n",
    "    while not resolved:\n",
    "        n=len(clauses)\n",
    "        pairs = [(clauses[i], clauses[j]) for i in range(n) for j in range(i + 1, n)]\n",
    "        for (ci,cj) in pairs:\n",
    "            resolvant=resolve(ci,cj)\n",
    "            if not resolvant:\n",
    "                resolved=True\n",
    "                break\n",
    "            new=new.union(set(resolvant))\n",
    "        if new.issubset(set(clauses)):\n",
    "            break\n",
    "        for clause in new:\n",
    "            if clause not in clauses:\n",
    "                clauses.append(clause)\n",
    "                \n",
    "    if resolved:\n",
    "        print('SUCCESSFULLY PROVED BY RESOLUTION')\n",
    "    else:\n",
    "        print('CANNOT BE PROVED')"
   ]
  },
  {
   "cell_type": "code",
   "execution_count": 39,
   "id": "40db8b53",
   "metadata": {},
   "outputs": [
    {
     "name": "stdout",
     "output_type": "stream",
     "text": [
      "Enter the clauses AvB BvC ~C\n",
      "Enter the query: B\n",
      "Trying to prove (AvB)^(BvC)^(~C)^(~B) by contradiction...\n",
      "SUCCESSFULLY PROVED BY RESOLUTION\n"
     ]
    }
   ],
   "source": [
    "clauses = input('Enter the clauses ').split()\n",
    "query = input('Enter the query: ')\n",
    "check_resolution(clauses, query)"
   ]
  },
  {
   "cell_type": "code",
   "execution_count": 43,
   "id": "4b73fdba",
   "metadata": {},
   "outputs": [
    {
     "name": "stdout",
     "output_type": "stream",
     "text": [
      "Enter the clauses ~Qv~PvR ~Q^P Q\n",
      "Enter the query: Q\n",
      "Trying to prove (~Qv~PvR)^(~Q^P)^(Q)^(~Q) by contradiction...\n",
      "SUCCESSFULLY PROVED BY RESOLUTION\n"
     ]
    }
   ],
   "source": [
    "clauses = input('Enter the clauses ').split()\n",
    "query = input('Enter the query: ')\n",
    "check_resolution(clauses, query)"
   ]
  },
  {
   "cell_type": "code",
   "execution_count": null,
   "id": "510dd9c1",
   "metadata": {},
   "outputs": [],
   "source": []
  }
 ],
 "metadata": {
  "kernelspec": {
   "display_name": "Python 3",
   "language": "python",
   "name": "python3"
  },
  "language_info": {
   "codemirror_mode": {
    "name": "ipython",
    "version": 3
   },
   "file_extension": ".py",
   "mimetype": "text/x-python",
   "name": "python",
   "nbconvert_exporter": "python",
   "pygments_lexer": "ipython3",
   "version": "3.8.8"
  }
 },
 "nbformat": 4,
 "nbformat_minor": 5
}
