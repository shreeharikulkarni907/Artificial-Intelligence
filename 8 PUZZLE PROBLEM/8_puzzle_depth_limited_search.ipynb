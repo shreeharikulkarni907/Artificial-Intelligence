{
 "cells": [
  {
   "cell_type": "markdown",
   "id": "a860125d",
   "metadata": {},
   "source": [
    "# DEPTH LIMITED SEARCH"
   ]
  },
  {
   "cell_type": "code",
   "execution_count": 16,
   "id": "674e5a37",
   "metadata": {},
   "outputs": [],
   "source": [
    "def dls(src,target,d):\n",
    "    \n",
    "    for i in range(d):\n",
    "        visited_states=[]\n",
    "        if dfs(src,target,i+1,visited_states):\n",
    "            return True\n",
    "    return False\n",
    "        \n",
    "    "
   ]
  },
  {
   "cell_type": "code",
   "execution_count": 21,
   "id": "9fd277e5",
   "metadata": {},
   "outputs": [],
   "source": [
    "def dfs(src,target,limit,visited_states):\n",
    "    if(src==target):\n",
    "        return True\n",
    "    if(limit<=0):\n",
    "        return False\n",
    "    visited_states.append(src)\n",
    "    for move in possible_moves(src,visited_states):\n",
    "        if (dfs(move,target,limit-1,visited_states)):\n",
    "            return True\n",
    "    return False\n",
    "        "
   ]
  },
  {
   "cell_type": "code",
   "execution_count": 22,
   "id": "d35cf4f3",
   "metadata": {},
   "outputs": [],
   "source": [
    "def possible_moves(src,visited_states):\n",
    "    pos_moves=[]\n",
    "    b=src.index(-1)\n",
    "    d=[]\n",
    "    if b not in [0,1,2]:\n",
    "        d+='u'\n",
    "    if b not in [6,7,8]:\n",
    "        d+='d'\n",
    "    if b not in [0,3,6]:\n",
    "        d+='l'\n",
    "    if b not in [2,5,8]:\n",
    "        d+='r'\n",
    "    for move in d:\n",
    "        pos_moves.append(gen(src,b,move))\n",
    "    return [move for move in pos_moves if move not in visited_states]"
   ]
  },
  {
   "cell_type": "code",
   "execution_count": 23,
   "id": "8fc4a9a1",
   "metadata": {},
   "outputs": [],
   "source": [
    "def gen(src,blank,move):\n",
    "    temp=src.copy()\n",
    "    if(move=='u'):\n",
    "        temp[blank-3],temp[blank]=temp[blank],temp[blank-3]\n",
    "    if(move=='d'):\n",
    "        temp[blank+3],temp[blank]=temp[blank],temp[blank+3]\n",
    "    if(move=='l'):\n",
    "        temp[blank-1],temp[blank]=temp[blank],temp[blank-1]\n",
    "    if(move=='r'):\n",
    "        temp[blank+1],temp[blank]=temp[blank],temp[blank+1]\n",
    "    return temp"
   ]
  },
  {
   "cell_type": "code",
   "execution_count": 24,
   "id": "985dc3e1",
   "metadata": {},
   "outputs": [
    {
     "data": {
      "text/plain": [
       "False"
      ]
     },
     "execution_count": 24,
     "metadata": {},
     "output_type": "execute_result"
    }
   ],
   "source": [
    "src = [1,2,3,-1,4,5,6,7,8]\n",
    "target = [1,2,3,4,5,-1,6,7,8]         \n",
    "\n",
    "depth = 1\n",
    "dls(src, target, depth)"
   ]
  },
  {
   "cell_type": "code",
   "execution_count": 25,
   "id": "141eb69e",
   "metadata": {},
   "outputs": [
    {
     "data": {
      "text/plain": [
       "False"
      ]
     },
     "execution_count": 25,
     "metadata": {},
     "output_type": "execute_result"
    }
   ],
   "source": [
    "src = [3,5,2,8,7,6,4,1,-1]\n",
    "target = [-1,3,7,8,1,5,4,6,2]\n",
    "\n",
    "depth = 1\n",
    "dls(src, target, depth) "
   ]
  },
  {
   "cell_type": "code",
   "execution_count": 26,
   "id": "bf6fd778",
   "metadata": {},
   "outputs": [
    {
     "data": {
      "text/plain": [
       "True"
      ]
     },
     "execution_count": 26,
     "metadata": {},
     "output_type": "execute_result"
    }
   ],
   "source": [
    "src = [1, 2, 3, 4, 5, 6, 7, 8, -1]\n",
    "target = [-1, 1, 2, 3, 4, 5, 6, 7, 8]\n",
    "depth=100\n",
    "dls(src,target,depth)"
   ]
  },
  {
   "cell_type": "code",
   "execution_count": null,
   "id": "a819ab03",
   "metadata": {},
   "outputs": [],
   "source": []
  }
 ],
 "metadata": {
  "kernelspec": {
   "display_name": "Python 3",
   "language": "python",
   "name": "python3"
  },
  "language_info": {
   "codemirror_mode": {
    "name": "ipython",
    "version": 3
   },
   "file_extension": ".py",
   "mimetype": "text/x-python",
   "name": "python",
   "nbconvert_exporter": "python",
   "pygments_lexer": "ipython3",
   "version": "3.8.8"
  }
 },
 "nbformat": 4,
 "nbformat_minor": 5
}
