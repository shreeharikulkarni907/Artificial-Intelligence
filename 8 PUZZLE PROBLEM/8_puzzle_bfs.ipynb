{
 "cells": [
  {
   "cell_type": "markdown",
   "id": "961df2d6",
   "metadata": {},
   "source": [
    "# 8 PUZZLE USING BFS"
   ]
  },
  {
   "cell_type": "code",
   "execution_count": 7,
   "id": "faaf70ca",
   "metadata": {},
   "outputs": [],
   "source": [
    "def dispplay(src):\n",
    "    state=src.copy()\n",
    "    state[state.index(-1)]=' '\n",
    "    print(state[0],state[1],state[2])\n",
    "    print(state[3],state[4],state[5])\n",
    "    print(state[6],state[7],state[8])\n",
    "    print()\n",
    "    "
   ]
  },
  {
   "cell_type": "code",
   "execution_count": 22,
   "id": "f9e1e6a5",
   "metadata": {},
   "outputs": [],
   "source": [
    "def bfs(src,tar):\n",
    "    queue=[src]\n",
    "    visited_states=[]\n",
    "    while len(queue):\n",
    "        state=queue.pop(0)\n",
    "        dispplay(state)\n",
    "        if state==tar:\n",
    "            print(\"SUCCESS\")\n",
    "            return \n",
    "        for move in possible_moves(state,visited_states):\n",
    "            if move not in queue and move not in visited_states:\n",
    "                queue.append(move)\n",
    "                visited_states.append(move)\n",
    "    print(\"Fail\")\n",
    "            \n",
    "        \n",
    "            \n",
    "        \n",
    "\n",
    "    \n",
    "    \n",
    "    "
   ]
  },
  {
   "cell_type": "code",
   "execution_count": 21,
   "id": "5c5f0179",
   "metadata": {},
   "outputs": [],
   "source": [
    "def possible_moves(state,visited_states):\n",
    "    pos_moves=[]\n",
    "    b=state.index(-1)\n",
    "    d=[]\n",
    "    if b not in [0,1,2]:\n",
    "        d+='u'\n",
    "    if b not in [6,7,8]:\n",
    "        d+='d'\n",
    "    if b not in [0,3,6]:\n",
    "        d+='l'\n",
    "    if b not in [2,5,8]:\n",
    "        d+='r'\n",
    "    for move in d:\n",
    "        pos_moves.append(gen(state,b,move))\n",
    "    return [move for move in pos_moves if move not in visited_states]"
   ]
  },
  {
   "cell_type": "code",
   "execution_count": 15,
   "id": "a2506e3d",
   "metadata": {},
   "outputs": [],
   "source": [
    "def gen(state,blank,move):\n",
    "    temp=state.copy()\n",
    "    if(move=='u'):\n",
    "        temp[blank-3],temp[blank]=temp[blank],temp[blank-3]\n",
    "    if(move=='d'):\n",
    "        temp[blank+3],temp[blank]=temp[blank],temp[blank+3]\n",
    "    if(move=='l'):\n",
    "        temp[blank-1],temp[blank]=temp[blank],temp[blank-1]\n",
    "    if(move=='r'):\n",
    "        temp[blank+1],temp[blank]=temp[blank],temp[blank+1]\n",
    "    return temp\n",
    "        \n",
    "        \n",
    "    "
   ]
  },
  {
   "cell_type": "code",
   "execution_count": 24,
   "id": "f1eb8db0",
   "metadata": {},
   "outputs": [
    {
     "name": "stdout",
     "output_type": "stream",
     "text": [
      "1 2 3\n",
      "  4 5\n",
      "6 7 8\n",
      "\n",
      "  2 3\n",
      "1 4 5\n",
      "6 7 8\n",
      "\n",
      "1 2 3\n",
      "6 4 5\n",
      "  7 8\n",
      "\n",
      "SUCCESS\n"
     ]
    }
   ],
   "source": [
    "src=[1,2,3,-1,4,5,6,7,8]\n",
    "tar=[1,2,3,6,4,5,-1,7,8]\n",
    "\n",
    "bfs(src,tar)"
   ]
  },
  {
   "cell_type": "code",
   "execution_count": 25,
   "id": "63aff6d0",
   "metadata": {},
   "outputs": [
    {
     "name": "stdout",
     "output_type": "stream",
     "text": [
      "1 2 3\n",
      "  4 5\n",
      "6 7 8\n",
      "\n",
      "  2 3\n",
      "1 4 5\n",
      "6 7 8\n",
      "\n",
      "1 2 3\n",
      "6 4 5\n",
      "  7 8\n",
      "\n",
      "1 2 3\n",
      "4   5\n",
      "6 7 8\n",
      "\n",
      "1 2 3\n",
      "  4 5\n",
      "6 7 8\n",
      "\n",
      "2   3\n",
      "1 4 5\n",
      "6 7 8\n",
      "\n",
      "1 2 3\n",
      "6 4 5\n",
      "7   8\n",
      "\n",
      "1   3\n",
      "4 2 5\n",
      "6 7 8\n",
      "\n",
      "1 2 3\n",
      "4 7 5\n",
      "6   8\n",
      "\n",
      "1 2 3\n",
      "4 5  \n",
      "6 7 8\n",
      "\n",
      "SUCCESS\n"
     ]
    }
   ],
   "source": [
    "src = [1,2,3,-1,4,5,6,7,8]\n",
    "target = [1,2,3,4,5,-1,6,7,8]         \n",
    "       \n",
    "\n",
    "bfs(src, target) "
   ]
  },
  {
   "cell_type": "code",
   "execution_count": null,
   "id": "c56d5b4e",
   "metadata": {},
   "outputs": [],
   "source": []
  }
 ],
 "metadata": {
  "kernelspec": {
   "display_name": "Python 3",
   "language": "python",
   "name": "python3"
  },
  "language_info": {
   "codemirror_mode": {
    "name": "ipython",
    "version": 3
   },
   "file_extension": ".py",
   "mimetype": "text/x-python",
   "name": "python",
   "nbconvert_exporter": "python",
   "pygments_lexer": "ipython3",
   "version": "3.8.8"
  }
 },
 "nbformat": 4,
 "nbformat_minor": 5
}
